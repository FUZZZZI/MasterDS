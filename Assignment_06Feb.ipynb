Q1. Create a function which will take a list as an argument and return the 
product of all the numbers after creating a flat list. Use the below-given 
list as an argument for your function.

list1 = [1,2,3,4, [44,55,66, True], False, (34,56,78,89,34), {1,2,3,3,2,1}, 
{1:34, "key2": [55, 67, 78, 89], 4: (45, 22, 61, 34)}, [56, 'data science'], 
'Machine Learning'] 
Note: you must extract numeric keys and values of the dictionary also.
Ans.

nesl = []
def flatlist(l):
    for i in l:
        if type(i) in (int, float):
            nesl.append(i)
        elif type(i) in (str, bool):
            pass
        elif type(i) == dict:
            flatlist(i.items())
        elif type(i) == list or tuple or set:
            flatlist(i)
        else:
           pass
    return nesl

list1 = [1,2,3,4, [44,55,66, True], False, (34,56,78,89,34), {1,2,3,3,2,1}, {1:34, "key2": [55, 67, 78, 89], 4: (45,
22, 61, 34)}, [56, 'data science'], 'Machine Learning']

#flatlist(list1)
from functools import reduce
reduce(lambda a,b : a*b, flatlist(list1)) 

Q2. Write a python program for encrypting a message sent to you by your friend. 
The logic of encryption should be such that, for a the output should be z. 
For b, the output should be y. For c, the output should be x respectively.

Also, the whitespace should be replaced with a dollar sign. Keep the 
punctuation marks unchanged.

Input Sentence: I want to become a Data Scientist. 
Encrypt the above input sentence using the program you just created.

Note: Convert the given input sentence into lowercase before encrypting. 
The final output should be lowercase.
Ans.

alpha = [chr(i) for i in range(ord("z"), ord("a")-1,-1)]
alpha

#Python ord() and chr() are built-in functions. 
#They are used to convert a character to an int and vice versa

#import string
#string.ascii_letters

message = "I want to become a Data Scientist."

def revstr(x):
    newstr = ""
    y=x.lower()
    for i in y:
        if i == " ":
            newstr = newstr + "$"
        elif i in alpha:
            newstr = newstr + alpha[ord(i)-ord("a")]
        else:
            newstr = newstr + i
    return newstr

revstr(message)