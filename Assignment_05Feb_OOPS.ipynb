Q1. Explain Class and Object with respect to Object-Oriented Programming. 
Give a suitable example.
Ans.
Class
Classes are used to create user-defined data structures.
It's like a blueprint for an object where we define all its properties and 
behaviours

Object
An Object is an instance of a Class it's like a copy of the class.
Everything in Python is an object, and almost everything has attributes and 
methods.

class Employee:
  def __init__(self, first, last):
    self.first=first
    self.last=last

  # Methods
  def user(self):
    print(self.first)

emp1=Employee('Sudh','Kumar')
emp1.user()

Q2. Name the four pillars of OOPs.
Ans.
These four pillars are Inheritance, Polymorphism, Encapsulation and Abstraction

Q3. Explain why the __init__() function is used. Give a suitable example.
Ans.
__init__ function lets the class to initialize the object attributes.

For Ex: If you create a class called EV_Cars and Nexon_EV as an object 
then__init__ function will let you initialize the attributes like mileage, 
pickup, rooftype, etc.

Q4. Why self is used in OOPs?
Ans.
self variable is used to represent the instance of the class. It acts as a 
pointer between class and object attributes.

Q5. What is inheritance? Give an example for each type of inheritance.
Ans.
Inheritance is a mechanism in which one class acquires the properties and 
characterstics (variables and methods of another class. 

It facilitates the reusability of the code.
For Ex: 

Single Inheritance : Ex:- Version 1 vs Version 2 of a car.

# Base class
class Parent:
    def func1(self):
        print("Parent class")
 
# Derived class
class Child(Parent):
    def func2(self):
        print("Child class")

# Driver's code
object = Child()
object.func1()
object.func2()


Multiple Inheritance : Ex:- Father's & Mother's genes to Son or Daughter.

# Base class1
class Mother:
    def mother(self):
        print('Mother')

# Base class2
class Father:
    def father(self):
        print("Father")

# Derived class
class Son(Mother, Father):
    def parents(self):
        self.mother()
        self.father()

# Driver's code
s1 = Son()
s1.parents()

Multi level Inheritance : Ex:- Grandfather genes to Grandson

# Base class
class Parent:
    def func1(self):
        print("Parent class")
 
# Derived class
class Child(Parent):
    def func2(self):
        print("Child class")

class Grandchild(Child):
    def func3(self):
        print("Grand child class")

# Driver's code
object = Grandchild()
object.func1()
object.func2()
object.func3()


Hierarchial Inheritance : Ex:- Information flow from HR to Various Departments (levels)

class Parent:
    def func1(self):
        print("Parent class") 

class Child1(Parent):
    def func2(self):
        print("Child 1")
 
class Child2(Parent):
    def func3(self):
        print("Child 2")

object1 = Child1()
object2 = Child2()
object1.func1()
object1.func2()
object2.func1()
object2.func3()

Hybrid Inheritance : Creating a visualisation report from variuos data sources.











