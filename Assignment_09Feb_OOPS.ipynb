Q1. Create a vehicle class with an init method having instance variables as 
name_of_vehicle, max_speed and average_of_vehicle. 
#Ans.

class vehicle:
    def __init__(self, name_of_vehicle, max_speed, average_of_vehicle):
        self.name_of_vehicle = name_of_vehicle
        self.max_speed = max_speed
        self.average_of_vehicle = average_of_vehicle
        
Q2. Create a child class car from the vehicle class created in Que 1, which 
will inherit the vehicle class. Create a method named seating_capacity which 
takes capacity as an argument and returns the name of the vehicle and its 
seating capacity.
Ans.

class vehicle:
    def __init__(self, name_of_vehicle, max_speed, average_of_vehicle):
        self.name_of_vehicle = name_of_vehicle
        self.max_speed = max_speed
        self.average_of_vehicle = average_of_vehicle

class car(vehicle):
    def seating_capacity(self, capacity):
        return f"{self.name_of_vehicle} seating capacity is {capacity}."
        
Q3. What is multiple inheritance? Write a python code to demonstrate multiple 
inheritance.
Ans.
When a class is derived from more than one class, it is multiple inheritence.

code :-

class transport:
    def transport1(self):
        print("this is transport class")
class ic_car:
    def ic_car1(self):
        print("this is ic_car class")
class toyota(transport,ic_car):
    def toyota1(self):
        print("this is toyota class")

Innova = toyota()
Innova.ic_car1() 
Innova.transport1()

Q4. What are getter and setter in python? Create a class and create a getter 
and a setter method in this class.
Ans.
In Object-Oriented Programming (OOPS), getters are the methods used which helps
to access the private attributes from a class whereas setters are the methods
which helps to set the value to private attributes in a class.

class python:
    def __init__(self, age):
        self.age = age
    def get_age(self):
        print("getter called")
        return self.age
    def set_age(self,a):
        print("setter called")
        self.age = a
        return self.age
b = python(34)
b.age
b.get_age()
b.set_age(56)
b.age

Q5.What is method overriding in python? Write a python code to demonstrate 
method overriding
Ans.

Method overriding is a feature of object-oriented programming languages where 
the subclass or child class can provide the program with specific characteristics 
or a specific implementation process of data provided that are already defined in 
the parent class or superclass.

There are two prerequisite conditions for Method overriding:
1.Inheritance should be present in the code, method overriding cannot be performed 
in the same class, and overriding can only be executed when a child class is 
derived through inheritance.
2.The child class should have the same name and the same number of parameters
as the parent class.

class animal:                                     #Parent class
    def eye(self):
        print("this animal have eyes")
class snake(animal):
    def eye(self):
        print("snake does not have eyes")
        
z = snake()
z.eye()  

Here, snake class overrides the eye function of animal class

