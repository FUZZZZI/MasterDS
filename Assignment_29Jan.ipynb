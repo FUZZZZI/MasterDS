Q1. Who developed python programming language?
Ans.
Python was created by Guido van Rossum.

Q2. Which type of programming does python support?
Ans.
Python is an interpreted programming language, supporting object-oriented, 
structured, and functional programming.

Q3. Is python case sensitive when dealing with identifiers?
Ans.
Yes, Python is a case-sensitive language.

Q4. What is the correct extension of the python file?
Ans.
.py

Q5. Is pthon code compiled or interpreted?
Ans.
Python is an interpreted language, which means the source code of a Python 
program is converted into bytecode that is then executed by the Python virtual machine.

Q6. Name a few blocks of code used to define in python language?
Ans.
The following are blocks: a module, a function body, and a class definition.

Q7. State a character used to give single-line comments in python.
Ans.
# (hash) is used to make a single line comment
''' (triple quotes) are used to make multi-line comment.

Q8. Mention functions which can help us to find the versions of python that we are 
currently working on.
Ans. 
sys.version function can help us.

Q9. Python supports the creation of anonymous functions at runtime, using a construct called __?
Ans.
Lambda

Q10. What does pip stand for python?
Ans.
pip stands for preferred installer program

Q11. Mention a few built in functions in python.
Ans.
print(), type(), input(), abs(), max(), sorted()

Q12. What is the maximum possible length of an identifier in python?
Ans.
In Python, the maximum possible length of an identifier (i.e., variable name, 
function name, class name, etc.) is technically unlimited. However, it's 
generally considered good practice to keep identifiers under 79 characters 
in length, as recommended by the PEP 8 style guide.

Q13. What are the benefits of using python?
Ans.
Python is simple, clean, and fast to write as compared to many other languages.
Also it has robust standard library, it is free and open source,
It's applications inlcude: Data science; Web development; Computer graphics, etc.

Q14. How is memory managed in python?
Ans.
Python uses a portion of the memory for internal use and non-object memory. 
Another part of the memory is used for Python object such as int, dict, list, etc. 
CPython contains the object allocator that allocates memory within the object area. 
The object allocator gets a call every time the new object needs space.

Q15. How to install python on windows and set path variables?
Ans.
Steps to install pyhton on windows:-
Download the binaries ; Run the Executable installer ; Add Python to PATH environmental variables.
Steps to set path variables:-
Right click on My Computer and click on properties -> Click on Advanced System settings ->
Click on Environment Variable tab -> Click on new tab of user variables -> Write path in variable name ->
Copy the path of Python folder -> Paste path of Python in variable value -> Click on Ok button (2 times)

Q16. Is indentation required in python?
Ans.
Yes, indentation in python is importrant and crucial.
