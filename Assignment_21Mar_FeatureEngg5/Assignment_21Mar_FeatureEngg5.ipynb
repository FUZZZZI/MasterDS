{
 "cells": [
  {
   "attachments": {},
   "cell_type": "markdown",
   "metadata": {},
   "source": [
    "Q1. What is the difference between Ordinal Encoding and Label Encoding? Provide an example of when you might choose one over the other."
   ]
  },
  {
   "attachments": {},
   "cell_type": "markdown",
   "metadata": {},
   "source": [
    "Ans.\n",
    "The main difference between Ordinal Encoding and Label Encoding is that the former assigns a unique integer value to each category based on their order or rank, whereas the latter assigns a unique integer value to each category without any consideration of order.\n",
    "\n",
    "In general, Ordinal Encoding is preferred over Label Encoding when there is an inherent order or ranking between the categories. \n",
    "\n",
    "If there is no inherent order or ranking between the categories, such as in the case of \"eye color\" or \"favorite color\", then Label Encoding may be more appropriate.\n",
    "\n",
    "However, it is important to note that for some machine learning algorithms, such as decision trees, the ordering of categories can still affect performance, even if there is no inherent order or ranking, so it may still be beneficial to use Ordinal Encoding in these cases."
   ]
  },
  {
   "attachments": {},
   "cell_type": "markdown",
   "metadata": {},
   "source": [
    "Q2. Explain how Target Guided Ordinal Encoding works and provide an example of when you might use it in a machine learning project."
   ]
  },
  {
   "attachments": {},
   "cell_type": "markdown",
   "metadata": {},
   "source": [
    "Ans.\n",
    "The objective of this technique is to transform categorical features into numerical features while preserving the relationship between the feature and the target variable.\n",
    "\n",
    "The encoding process involves the following steps:\n",
    "Step1: Group the unique categories of the categorical feature based on the target variable.\n",
    "Step2: Compute the mean (or median) of the target variable for each category.\n",
    "Step3: Assign an ordinal number to each category based on the computed means (or medians).\n",
    "\n",
    "It can also help reduce the dimensionality of the dataset by replacing the categorical features with numerical features.\n",
    "\n",
    "For Ex: consider a dataset with a categorical feature called \"city\" that contains the following categories: New York, San Francisco, Los Angeles, and Chicago. We want to predict the salary of employees based on their city."
   ]
  },
  {
   "attachments": {},
   "cell_type": "markdown",
   "metadata": {},
   "source": [
    "Q3. Define covariance and explain why it is important in statistical analysis. How is covariance calculated?"
   ]
  },
  {
   "attachments": {},
   "cell_type": "markdown",
   "metadata": {},
   "source": [
    "Ans.\n",
    "Covariance is a statistical measure that indicates the extent to which two variables are linearly related. It measures the degree to which changes in one variable are associated with changes in another variable.\n",
    "\n",
    "Importance: it helps us to understand the relationship between two variables and to determine whether changes in one variable are associated with changes in another variable.\n",
    "\n",
    "Covariance is calculated using the following formula:\n",
    "\n",
    "$cov(X,Y) = 1/n * ∑(Xi - X_mean) * (Yi - Y_mean)$"
   ]
  },
  {
   "attachments": {},
   "cell_type": "markdown",
   "metadata": {},
   "source": [
    "Q4. For a dataset with the following categorical variables: Color (red, green, blue), Size (small, medium, large), and Material (wood, metal, plastic), perform label encoding using Python's scikit-learn library. Show your code and explain the output."
   ]
  },
  {
   "cell_type": "code",
   "execution_count": 1,
   "metadata": {},
   "outputs": [
    {
     "data": {
      "text/html": [
       "<div>\n",
       "<style scoped>\n",
       "    .dataframe tbody tr th:only-of-type {\n",
       "        vertical-align: middle;\n",
       "    }\n",
       "\n",
       "    .dataframe tbody tr th {\n",
       "        vertical-align: top;\n",
       "    }\n",
       "\n",
       "    .dataframe thead th {\n",
       "        text-align: right;\n",
       "    }\n",
       "</style>\n",
       "<table border=\"1\" class=\"dataframe\">\n",
       "  <thead>\n",
       "    <tr style=\"text-align: right;\">\n",
       "      <th></th>\n",
       "      <th>Color</th>\n",
       "      <th>Size</th>\n",
       "      <th>Material</th>\n",
       "    </tr>\n",
       "  </thead>\n",
       "  <tbody>\n",
       "    <tr>\n",
       "      <th>0</th>\n",
       "      <td>2</td>\n",
       "      <td>2</td>\n",
       "      <td>2</td>\n",
       "    </tr>\n",
       "    <tr>\n",
       "      <th>1</th>\n",
       "      <td>1</td>\n",
       "      <td>0</td>\n",
       "      <td>0</td>\n",
       "    </tr>\n",
       "    <tr>\n",
       "      <th>2</th>\n",
       "      <td>0</td>\n",
       "      <td>2</td>\n",
       "      <td>2</td>\n",
       "    </tr>\n",
       "    <tr>\n",
       "      <th>3</th>\n",
       "      <td>1</td>\n",
       "      <td>1</td>\n",
       "      <td>1</td>\n",
       "    </tr>\n",
       "    <tr>\n",
       "      <th>4</th>\n",
       "      <td>2</td>\n",
       "      <td>0</td>\n",
       "      <td>1</td>\n",
       "    </tr>\n",
       "  </tbody>\n",
       "</table>\n",
       "</div>"
      ],
      "text/plain": [
       "   Color  Size  Material\n",
       "0      2     2         2\n",
       "1      1     0         0\n",
       "2      0     2         2\n",
       "3      1     1         1\n",
       "4      2     0         1"
      ]
     },
     "execution_count": 1,
     "metadata": {},
     "output_type": "execute_result"
    }
   ],
   "source": [
    "# Ans.\n",
    "import pandas as pd\n",
    "df = pd.DataFrame({\"Color\":[\"red\",\"green\",\"blue\",\"green\",\"red\"], \"Size\":[\"small\",\"large\",\"small\",\"medium\",\"large\"], \"Material\":[\"wood\",\"metal\",\"wood\",\"plastic\",\"plastic\"]})\n",
    "df\n",
    "from sklearn.preprocessing import LabelEncoder\n",
    "lb_encode = LabelEncoder()\n",
    "df_encode = df.apply(lb_encode.fit_transform)\n",
    "df_encode\n",
    "\n",
    "# Here, the categories are assigned numerical labels based on first alphabets.\n"
   ]
  },
  {
   "attachments": {},
   "cell_type": "markdown",
   "metadata": {},
   "source": [
    "Q5. Calculate the covariance matrix for the following variables in a dataset: Age, Income, and Education level. Interpret the results."
   ]
  },
  {
   "cell_type": "code",
   "execution_count": 2,
   "metadata": {},
   "outputs": [
    {
     "data": {
      "text/html": [
       "<div>\n",
       "<style scoped>\n",
       "    .dataframe tbody tr th:only-of-type {\n",
       "        vertical-align: middle;\n",
       "    }\n",
       "\n",
       "    .dataframe tbody tr th {\n",
       "        vertical-align: top;\n",
       "    }\n",
       "\n",
       "    .dataframe thead th {\n",
       "        text-align: right;\n",
       "    }\n",
       "</style>\n",
       "<table border=\"1\" class=\"dataframe\">\n",
       "  <thead>\n",
       "    <tr style=\"text-align: right;\">\n",
       "      <th></th>\n",
       "      <th>age</th>\n",
       "      <th>income</th>\n",
       "      <th>education</th>\n",
       "    </tr>\n",
       "  </thead>\n",
       "  <tbody>\n",
       "    <tr>\n",
       "      <th>age</th>\n",
       "      <td>69.8</td>\n",
       "      <td>173500.0</td>\n",
       "      <td>23.0</td>\n",
       "    </tr>\n",
       "    <tr>\n",
       "      <th>income</th>\n",
       "      <td>173500.0</td>\n",
       "      <td>432500000.0</td>\n",
       "      <td>57500.0</td>\n",
       "    </tr>\n",
       "    <tr>\n",
       "      <th>education</th>\n",
       "      <td>23.0</td>\n",
       "      <td>57500.0</td>\n",
       "      <td>10.0</td>\n",
       "    </tr>\n",
       "  </tbody>\n",
       "</table>\n",
       "</div>"
      ],
      "text/plain": [
       "                age       income  education\n",
       "age            69.8     173500.0       23.0\n",
       "income     173500.0  432500000.0    57500.0\n",
       "education      23.0      57500.0       10.0"
      ]
     },
     "execution_count": 2,
     "metadata": {},
     "output_type": "execute_result"
    }
   ],
   "source": [
    "# Ans.\n",
    "import pandas as pd\n",
    "df=pd.DataFrame({\"age\":[25, 32, 45, 27, 39],\"income\":[50000, 70000, 100000, 55000, 85000],\"education\":[12, 16, 18, 14, 20]})\n",
    "df\n",
    "df.cov()\n",
    "\n",
    "# Age, income pair is highly correlated\n"
   ]
  },
  {
   "attachments": {},
   "cell_type": "markdown",
   "metadata": {},
   "source": [
    "Q6. You are working on a machine learning project with a dataset containing several categorical variables, including \"Gender\" (Male/Female), \"Education Level\" (High School/Bachelor's/Master's/PhD), and \"Employment Status\" (Unemployed/Part-Time/Full-Time). Which encoding method would you use for each variable, and why?"
   ]
  },
  {
   "attachments": {},
   "cell_type": "markdown",
   "metadata": {},
   "source": [
    "Ans.\n",
    "* \"Gender\" (Male/Female): Binary encoding can be used to encode the \"Gender\" variable. Binary encoding would create a new binary column to indicate the gender (0 for Male, 1 for Female). binary encoding would be a more space-efficient option. \n",
    "\n",
    "* \"Education Level\" (High School/Bachelor's/Master's/PhD): Ordinal encoding is the most appropriate encoding method for he \"Education Level\" variable, as there should be hierarchy among the categories.\n",
    "\n",
    "* \"Employment Status\" (Unemployed/Part-Time/Full-Time): One-hot encoding can be used to encode the \"Employment Status\" variable as there is no inherit hierarchy among the categories."
   ]
  },
  {
   "attachments": {},
   "cell_type": "markdown",
   "metadata": {},
   "source": [
    "Q7. You are analyzing a dataset with two continuous variables, \"Temperature\" and \"Humidity\", and two categorical variables, \"Weather Condition\" (Sunny/Cloudy/Rainy) and \"Wind Direction\" (North/South/East/West). Calculate the covariance between each pair of variables and interpret the results."
   ]
  },
  {
   "cell_type": "code",
   "execution_count": 4,
   "metadata": {},
   "outputs": [
    {
     "name": "stdout",
     "output_type": "stream",
     "text": [
      "                          Temperature      Humidity  Weather Condition_Cloudy  \\\n",
      "Temperature                      4.30 -1.125000e+01                      0.95   \n",
      "Humidity                       -11.25  6.250000e+01                     -1.25   \n",
      "Weather Condition_Cloudy         0.95 -1.250000e+00                      0.30   \n",
      "Weather Condition_Rainy         -0.40  1.250000e+00                     -0.10   \n",
      "Weather Condition_Sunny         -0.55  2.775558e-17                     -0.20   \n",
      "Wind Direction_East             -0.40  1.250000e+00                     -0.10   \n",
      "Wind Direction_North             0.45 -3.750000e+00                      0.05   \n",
      "Wind Direction_South             0.60  1.387779e-17                      0.15   \n",
      "Wind Direction_West             -0.65  2.500000e+00                     -0.10   \n",
      "\n",
      "                          Weather Condition_Rainy  Weather Condition_Sunny  \\\n",
      "Temperature                                 -0.40            -5.500000e-01   \n",
      "Humidity                                     1.25             2.775558e-17   \n",
      "Weather Condition_Cloudy                    -0.10            -2.000000e-01   \n",
      "Weather Condition_Rainy                      0.20            -1.000000e-01   \n",
      "Weather Condition_Sunny                     -0.10             3.000000e-01   \n",
      "Wind Direction_East                          0.20            -1.000000e-01   \n",
      "Wind Direction_North                        -0.10             5.000000e-02   \n",
      "Wind Direction_South                        -0.05            -1.000000e-01   \n",
      "Wind Direction_West                         -0.05             1.500000e-01   \n",
      "\n",
      "                          Wind Direction_East  Wind Direction_North  \\\n",
      "Temperature                             -0.40                  0.45   \n",
      "Humidity                                 1.25                 -3.75   \n",
      "Weather Condition_Cloudy                -0.10                  0.05   \n",
      "Weather Condition_Rainy                  0.20                 -0.10   \n",
      "Weather Condition_Sunny                 -0.10                  0.05   \n",
      "Wind Direction_East                      0.20                 -0.10   \n",
      "Wind Direction_North                    -0.10                  0.30   \n",
      "Wind Direction_South                    -0.05                 -0.10   \n",
      "Wind Direction_West                     -0.05                 -0.10   \n",
      "\n",
      "                          Wind Direction_South  Wind Direction_West  \n",
      "Temperature                       6.000000e-01                -0.65  \n",
      "Humidity                          1.387779e-17                 2.50  \n",
      "Weather Condition_Cloudy          1.500000e-01                -0.10  \n",
      "Weather Condition_Rainy          -5.000000e-02                -0.05  \n",
      "Weather Condition_Sunny          -1.000000e-01                 0.15  \n",
      "Wind Direction_East              -5.000000e-02                -0.05  \n",
      "Wind Direction_North             -1.000000e-01                -0.10  \n",
      "Wind Direction_South              2.000000e-01                -0.05  \n",
      "Wind Direction_West              -5.000000e-02                 0.20  \n"
     ]
    }
   ],
   "source": [
    "# Ans.\n",
    "\n",
    "import pandas as pd\n",
    "# create a sample dataset\n",
    "data = pd.DataFrame({\n",
    "    'Temperature': [25, 27, 23, 22, 26],\n",
    "    'Humidity': [60, 70, 75, 80, 65],\n",
    "    'Weather Condition': ['Sunny', 'Cloudy', 'Rainy', 'Sunny', 'Cloudy'],\n",
    "    'Wind Direction': ['North', 'South', 'East', 'West', 'North']\n",
    "})\n",
    "\n",
    "# perform one-hot encoding on the categorical variables\n",
    "encoded_data = pd.get_dummies(data, columns=['Weather Condition', 'Wind Direction'])\n",
    "\n",
    "# calculate the covariance matrix\n",
    "covariance_matrix = encoded_data.cov()\n",
    "\n",
    "# print the covariance matrix\n",
    "print(covariance_matrix)\n"
   ]
  }
 ],
 "metadata": {
  "kernelspec": {
   "display_name": "base",
   "language": "python",
   "name": "python3"
  },
  "language_info": {
   "codemirror_mode": {
    "name": "ipython",
    "version": 3
   },
   "file_extension": ".py",
   "mimetype": "text/x-python",
   "name": "python",
   "nbconvert_exporter": "python",
   "pygments_lexer": "ipython3",
   "version": "3.10.9"
  },
  "orig_nbformat": 4
 },
 "nbformat": 4,
 "nbformat_minor": 2
}
