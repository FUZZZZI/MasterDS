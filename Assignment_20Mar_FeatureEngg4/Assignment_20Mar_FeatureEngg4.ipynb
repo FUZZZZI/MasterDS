{
 "cells": [
  {
   "attachments": {},
   "cell_type": "markdown",
   "metadata": {},
   "source": [
    "\n",
    "Q1. What is data encoding? How is it useful in data science?"
   ]
  },
  {
   "attachments": {},
   "cell_type": "markdown",
   "metadata": {},
   "source": [
    "Ans.\n",
    "Data encoding is the process of transforming data from one representation to another, often with the aim of making it suitable for use in machine learning algorithms. \n",
    "Encoding is useful because machine learning algorithms often require data to be represented in a specific format or range of values in order to be trained effectively."
   ]
  },
  {
   "attachments": {},
   "cell_type": "markdown",
   "metadata": {},
   "source": [
    "Q2. What is nominal encoding? Provide an example of how you would use it in a real-world scenario."
   ]
  },
  {
   "attachments": {},
   "cell_type": "markdown",
   "metadata": {},
   "source": [
    "Ans.\n",
    "Nominal encoding is a type of data encoding used for categorical variables that have no inherent order or ranking. \n",
    "One common type of nominal encoding is one-hot encoding, which involves creating binary variables for each category in a categorical variable.\n",
    "\n",
    "For example, suppose we have a dataset of customer reviews for a restaurant, and one of the features is the type of cuisine (Italian, Mexican, Chinese, etc.). To use this feature in a machine learning algorithm, we could use one-hot encoding to create binary variables for each cuisine type. So, if there are 4 cuisine types in the dataset (Italian, Mexican, Chinese, and Indian), we would create 4 binary variables: \"Italian\", \"Mexican\", \"Chinese\", and \"Indian\". If a review mentions Italian cuisine, the \"Italian\" variable would be set to 1, and the other variables would be set to 0."
   ]
  },
  {
   "attachments": {},
   "cell_type": "markdown",
   "metadata": {},
   "source": [
    "Q3. In what situations is nominal encoding preferred over one-hot encoding? Provide a practical example."
   ]
  },
  {
   "attachments": {},
   "cell_type": "markdown",
   "metadata": {},
   "source": [
    "Ans.\n",
    "Nominal encoding is preferred over one-hot encoding when the number of unique categories is large and could lead to a high-dimensional feature space, making it difficult to train machine learning models. In these situations, nominal encoding techniques like label encoding, target encoding, or hash encoding can be used to represent categorical features as numerical values.\n",
    "\n",
    "Ex: a dataset containing information about people, and one of the features is their name. If there are a large number of unique names in the dataset, one-hot encoding would create a large number of new columns, which would not be practical. In this case, a nominal encoding technique such as hash encoding could be used to assign a unique numerical value to each name."
   ]
  },
  {
   "attachments": {},
   "cell_type": "markdown",
   "metadata": {},
   "source": [
    "Q4. Suppose you have a dataset containing categorical data with 5 unique values. Which encoding technique would you use to transform this data into a format suitable for machine learning algorithms? Explain why you made this choice."
   ]
  },
  {
   "attachments": {},
   "cell_type": "markdown",
   "metadata": {},
   "source": [
    "Ans.\n",
    "In the case of a categorical feature with 5 unique values, one-hot encoding would create 5 binary variables, with each variable indicating whether the corresponding value is present or not. This encoding technique is simple, efficient, and commonly used in practice."
   ]
  },
  {
   "attachments": {},
   "cell_type": "markdown",
   "metadata": {},
   "source": [
    "Q5. In a machine learning project, you have a dataset with 1000 rows and 5 columns. Two of the columns are categorical, and the remaining three columns are numerical. If you were to use nominal encoding to transform the categorical data, how many new columns would be created? Show your calculations."
   ]
  },
  {
   "cell_type": "code",
   "execution_count": 23,
   "metadata": {},
   "outputs": [
    {
     "name": "stdout",
     "output_type": "stream",
     "text": [
      "Number of unique categories in each categorical column: [3, 3]\n",
      "Total number of new columns created through nominal encoding: 6\n"
     ]
    }
   ],
   "source": [
    "import pandas as pd \n",
    "import numpy as np\n",
    "\n",
    "#Create a dataset\n",
    "data = {\n",
    "    'category1': ['A', 'B', 'A', 'C', 'B'],\n",
    "    'num1': [10, 20, 30, 40, 50],\n",
    "    'category2': ['X', 'Y', 'X', 'Z', 'Y'],\n",
    "    'num2': [1.0, 2.0, 3.0, 4.0, 5.0],\n",
    "    'num3': [0.1, 0.2, 0.3, 0.4, 0.5]\n",
    "}\n",
    "df=pd.DataFrame(data)\n",
    "\n",
    "# Select categorical columns\n",
    "cat_cols = ['category1', 'category2']\n",
    "\n",
    "# Calculate the number of unique categories in each categorical column\n",
    "unique_cats= [df[i].nunique() for i in cat_cols]\n",
    "\n",
    "# Calculate the total number of new columns that would be created through nominal encoding\n",
    "num_new_cols = sum(unique_cats)\n",
    "\n",
    "print(\"Number of unique categories in each categorical column:\", unique_cats)\n",
    "print(\"Total number of new columns created through nominal encoding:\", num_new_cols)"
   ]
  },
  {
   "attachments": {},
   "cell_type": "markdown",
   "metadata": {},
   "source": [
    "Q6. You are working with a dataset containing information about different types of animals, including their species, habitat, and diet. Which encoding technique would you use to transform the categorical data into a format suitable for machine learning algorithms? Justify your answer."
   ]
  },
  {
   "attachments": {},
   "cell_type": "markdown",
   "metadata": {},
   "source": [
    "Ans.\n",
    "Assuming that the categorical variables in the dataset have a moderate number of unique categories and no natural ordering, nominal encoding using one-hot encoding can be a suitable encoding technique. \n",
    "\n",
    "This approach would create binary variables for each unique category, which would allow the machine learning algorithm to treat each category as a separate entity and account for its impact on the outcome variable. Additionally, nominal encoding does not assume any underlying ordinal relationship between the categories, making it a flexible and robust encoding technique for most categorical variables."
   ]
  },
  {
   "attachments": {},
   "cell_type": "markdown",
   "metadata": {},
   "source": [
    "Q7.You are working on a project that involves predicting customer churn for a telecommunications company. You have a dataset with 5 features, including the customer's gender, age, contract type, monthly charges, and tenure. Which encoding technique(s) would you use to transform the categorical data into numerical data? Provide a step-by-step explanation of how you would implement the encoding."
   ]
  },
  {
   "attachments": {},
   "cell_type": "markdown",
   "metadata": {},
   "source": [
    "Ans.\n",
    "Based on the available information about the dataset, we will use one-hot encoding for the categorical variables as it is a common and flexible encoding technique that works well for most categorical variables.\n",
    "\n",
    "Below Example is shown for rteference purpose only.\n"
   ]
  },
  {
   "attachments": {},
   "cell_type": "markdown",
   "metadata": {},
   "source": [
    "import pandas as pd\n",
    "from sklearn.preprocessing import OneHotEncoder\n",
    "\n",
    "# Load the dataset\n",
    "df = pd.read_csv('telecom_dataset.csv')\n",
    "\n",
    "# Select the categorical columns\n",
    "cat_cols = ['gender', 'contract_type']\n",
    "\n",
    "# Perform one-hot encoding on the categorical columns\n",
    "enc = OneHotEncoder(handle_unknown='ignore')\n",
    "enc_df = pd.DataFrame(enc.fit_transform(df[cat_cols]).toarray())\n",
    "\n",
    "# Rename the columns\n",
    "enc_df.columns = enc.get_feature_names(cat_cols)\n",
    "\n",
    "# Drop the original categorical columns\n",
    "df = df.drop(columns=cat_cols)\n",
    "\n",
    "# Concatenate the one-hot encoded columns with the original dataset\n",
    "df = pd.concat([df, enc_df], axis=1)"
   ]
  }
 ],
 "metadata": {
  "kernelspec": {
   "display_name": "base",
   "language": "python",
   "name": "python3"
  },
  "language_info": {
   "codemirror_mode": {
    "name": "ipython",
    "version": 3
   },
   "file_extension": ".py",
   "mimetype": "text/x-python",
   "name": "python",
   "nbconvert_exporter": "python",
   "pygments_lexer": "ipython3",
   "version": "3.10.9"
  },
  "orig_nbformat": 4
 },
 "nbformat": 4,
 "nbformat_minor": 2
}
