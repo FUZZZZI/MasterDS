Q1. What are the characteristics of the tuples? Is tuple immutable?
Ans.
Tuple is Read Only version of List
Tuple are immutable and insertion order is preserved
Duplicates and Heterogeneous objectsare allowed

Q2. What are the two tuple methods in python? Give an example of each method. 
Give a reason why tuples have only two in-built methods as compared to Lists.
Ans.
The two tuple methods are count() and index().

t1=(1,2,3,4,5,67,43,87,3+6j,"sudh",True)
t1.count(67)
t1.index(67)

A tuple have only 2  built-in methods because of immutability.

Q3. Which collection datatypes in python do not allow duplicate items? 
Write a code using a set to remove duplicates from the given list. 
List = [1, 1, 1, 2, 1, 3, 1, 4, 2, 1, 2, 2, 2, 3, 2, 4, 3, 1, 3, 2, 3, 3, 3, 4, 4, 1, 4, 2, 4, 3, 4, 4]
Ans.
Set do not allow duplicate items.
list(set(List))

Q4. Explain the difference between the union() and update() methods for a set. 
Give an example of each method.
Ans.
Both union() and update() are used to merge the sets.

For Ex:
set1 = {1,2,3,4}
set2 = [7,8,9,0]

union() results a new set with elements from both set1 and set2
print(set1.union(set2))

update() return set1 with elements added from set2
set1.update(set2)
set1

Q5. What is a dictionary? Give an example. Also, state whether a dictionary is 
ordered or unordered.
Ans.
A dictionary is a collection (of keys and values) which is changeable and do 
not allow duplicates.

Ex:
dict_5 = {"a":1, "b":2, "c":3}

As of Python version 3.7, dictionaries are ordered.
In Python 3.6 and earlier, dictionaries are unordered.

Q6. Can we create a nested dictionary? If so, please give an example by 
creating a simple one-level nested dictionary.
Ans.
Yes, we can create a nested dictionary.

dict_6 = {"a":1, "b":2, "c":{"d":4, "e":5}} 

Q7. Using setdefault() method, create key named topics in the given dictionary 
and also add the value of the key as this list 
['Python', 'Machine Learning’, 'Deep Learning'] 
dict1 = {'language' : 'Python', 'course': 'Data Science Masters'}
Ans.
dict1.setdefault("topics", ['Python', 'Machine Learning', 'Deep Learning'])

Q8. What are the three view objects in dictionaries? Use the three in-built 
methods in python to display these three view objects for the given dictionary. 
dict1 = {'Sport': 'Cricket' , 'Teams': ['India', 'Australia', 'England', 'South Africa', 'Sri Lanka', 'New Zealand']}
Ans.
The three view objects in dictionaries are keys, values, items
print(dict1.keys())
print(dict1.values())
print(dict1.items())
