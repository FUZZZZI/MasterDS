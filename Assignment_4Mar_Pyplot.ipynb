Q1. Load the "titanic" dataset using the load_dataset function of seaborn. 
Use Plotly express to plot a scatter plot for age and fare columns in the 
titanic dataset.
Ans.

code:- 

import seaborn as sns
titanic = sns.load_dataset("titanic")

from plotly.offline import plot          
import plotly.express as px

fig = px.scatter(titanic, x='age', y='fare')
fig.show()
#plot(fig)

Q2. Using the tips dataset in the Plotly library, plot a box plot using Plotly express.
Ans.

code:-

import seaborn as sns
tips = sns.load_dataset("tips")

from plotly.offline import plot          
import plotly.express as px

fig = px.box(x=tips.time, y=tips.total_bill, data_frame=tips)
fig.show()
#plot(fig)

Q3. Using the tips dataset in the Plotly library, Plot a histogram for 
x= "sex" and y="total_bill" column in the tips dataset. Also, use the "smoker" 
column with the pattern_shape parameter and the "day" column with the color 
parameter.
Ans.

code:-

import seaborn as sns
tips = sns.load_dataset("tips")

from plotly.offline import plot          
import plotly.express as px

fig = px.histogram(data_frame=tips,x=tips.sex, y=tips.total_bill,
                   pattern_shape=tips.smoker,color="day")
fig.show()
#plot(fig)

Q4. Using the iris dataset in the Plotly library, Plot a scatter matrix plot, 
using the "species" column for the color parameter.

Note: Use "sepal_length", "sepal_width", "petal_length", "petal_width" columns 
only with the dimensions parameter.
Ans.

code:-

import seaborn as sns
iris = sns.load_dataset("iris")

from plotly.offline import plot          
import plotly.express as px

fig = px.scatter_matrix(data_frame=iris, 
                        dimensions=(iris.sepal_length, iris.sepal_width, 
                                    iris.petal_length, iris.petal_width),
                        color=iris.species)
fig.show()
#plot(fig)

Q5. What is Distplot? Using Plotly express, plot a distplot.
Ans.
distplot is a type of plot in Seaborn that allows you to visualize the 
distribution of a single numerical variable.
In Plotly Express, a similar type of plot can be created using the histogram 
function.

code:-

import seaborn as sns
iris = sns.load_dataset("iris")

from plotly.offline import plot          
import plotly.express as px

fig = px.histogram(iris.sepal_length)
fig.show()
#plot(fig)