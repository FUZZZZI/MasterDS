Q1. Which keyword is used to create a function? Create a function to return a 
list of odd numbers in the range of 1 to 25.
Ans.
def -- is used to create a function

def func1():
    list1=[]
    for i in range(1,26):
        if i%2 !=0:
            list1.append(i)
    return list1
func1()

Q2. Why *args and **kwargs is used in some functions? Create a function each 
for *args and **kwargs to demonstrate their use.
Ans.
*args is used to reduce the effort of creating non keyworded arguments
to a Python function on which operations of tuple can be performed.

def f1(n1,*args):
    print(n1, args)

f1(10,20)

**kwargs is used to reduce the effort of creating non keyworded arguments
to a Python function on which operations of dictionary can be performed.

def display(**kwargs):
    print(kwargs)

display(n1=10)

display(rno=100,name="Sudh")

Q3. What is an iterator in python? Name the method used to initialise the 
iterator object and the method used for iteration. Use these methods to print 
the first five elements of the given list [2, 4, 6, 8, 10, 12, 14, 16, 18, 20].
Ans.
Iterator in python refers to an object which gerenates countable number of values.
The iterator object is initialized using the iter() method and method for 
iteration is next() method.

list2 = [2,4,6,8,10,12,14,16,18,20]
it=iter(list2)
for i in range(5):
    print(next(it))

Q4. What is a generator function in python? Why yield keyword is used? 
Give an example of a generator function.
Ans.
A generator is a function to generate an iterator object.
yield keyword returns a generator oject like return keyword returns a value.

Example: To generate a fibonacci series function.

def test_fib(n):
    a,b=0,1
    for i in range(n):
        yield a
        a,b = b, a+b
for i in test_fib(7):
    print(i)

Q5. Create a generator function for prime numbers less than 1000. Use the 
next() method to print the first 20 prime numbers.
Ans

def primno(N):
    list3 = []
    for i in range(1,N):
        k = 0
        for j in range(1,i):
            if i%j==0:
                k=k+1
        if(k==1):
            list3.append(i)
    return list3
a = iter(primno(1000))
#print(a)
k=0
while k<20:
    print(next(a))
    k=k+1