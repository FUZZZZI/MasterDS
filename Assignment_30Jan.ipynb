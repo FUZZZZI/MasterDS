Q1. Write a program to accept percentage from the user and display the grade 
according to the following.
Ans.
def get_grade(percentage):
    if percentage > 90:
        return 'A'
    elif percentage > 80:
        return 'B'
    elif percentage >= 60:
        return 'C'
    else:
        return 'D'

percentage = int(input("Please provide percentage"))
get_grade(percentage)

Q2. Write a program to accept the cost price of a bike and display the road 
tax to be paid according to the following criteria:
Ans.
def get_road_tax(price):
    if price > 100000:
        return 0.15 * price
    elif price > 50000:
        return 0.1 * price
    else:
        return 0.05 * price

price = int(input("Provide the cost price of bike: "))
get_road_tax(price)

Q3. Accept any city from the user and display monuments of that city.
Ans.
def get_city_monuments(city):
    if city == 'Delhi':
        return 'Red Fort'
    elif city == 'Agra':
        return 'Taj Mahal'
    elif city == 'Jaipur':
        return 'Jal Mahal'

city = input("Provide city name: ")
get_city_monuments(city)

Q4. Check how many times a given number can be divided by 3 before it is less 
than or equal to 10.
Ans.
num = int(input("Enter a number: "))
count = 0

while num > 10:
    num /= 3
    count += 1

print("The number can be divided by 3", count, "times before it is less than or equal to 10.")

Q5. Why and When to Use while Loop in Python give a detailed description with example
Ans.
In Python, the while loop is a control flow statement that allows a block of 
code to be repeated until a certain condition is met. The while loop is useful 
in situations where we want to execute a piece of code multiple times until a 
specific condition is satisfied. 

Ex:-
# Simple while loop example
i = 1
while i <= 5:
    print(i)
    i += 1

Q6. Use nested while loop to print 3 different pattern.
Ans.
i = 0
while i < 6 :
    j = 0
    while j < i:
        print(i, end=' ')
        j += 1
    i += 1
    print('')
    
n=7
for i in range(0,n):
    for j in range(0,n-i-1):
        print("",end=" ")
    for j in range(0, i+1):
        print("*", end=" ")
    print("\r") 
    
n=7
for i in range(0,n):
    for j in range(0,i+1):
        print("*", end="")
    print("\r")
    
Q7. Reverse a while loop to display numbers from 10 to 1.
Ans.
i = 10
while i >= 0:
    print(i, end=' ')
    i -= 1

Q8. Reverse a while loop to display numbers from 10 to 1
Ans.
i = 10
while i >= 0:
    print(i, end=' ')
    i -= 1























