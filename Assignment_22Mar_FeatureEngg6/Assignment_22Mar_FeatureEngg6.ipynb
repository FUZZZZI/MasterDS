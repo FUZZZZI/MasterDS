{
 "cells": [
  {
   "attachments": {},
   "cell_type": "markdown",
   "metadata": {},
   "source": [
    "Q1. Pearson correlation coefficient is a measure of the linear relationship between two variables. Suppose you have collected data on the amount of time students spend studying for an exam and their final exam scores. Calculate the Pearson correlation coefficient between these two variables and interpret the result."
   ]
  },
  {
   "cell_type": "code",
   "execution_count": 7,
   "metadata": {},
   "outputs": [
    {
     "name": "stdout",
     "output_type": "stream",
     "text": [
      "Pearson correlation coefficient: 1.0\n"
     ]
    }
   ],
   "source": [
    "# Ans.\n",
    "\n",
    "import numpy as np\n",
    "import pandas as pd\n",
    "\n",
    "# create a dataframe with the data\n",
    "data = pd.DataFrame({'Study Time': [10, 20, 30, 40, 50],\n",
    "                     'Exam Score': [60, 70, 80, 90, 100]})\n",
    "\n",
    "# calculate the Pearson correlation coefficient\n",
    "r = np.corrcoef(data['Study Time'], data['Exam Score'])[0, 1]\n",
    "\n",
    "print('Pearson correlation coefficient:', r)\n"
   ]
  },
  {
   "attachments": {},
   "cell_type": "markdown",
   "metadata": {},
   "source": [
    "Q2. Spearman's rank correlation is a measure of the monotonic relationship between two variables. Suppose you have collected data on the amount of sleep individuals get each night and their overall job satisfaction level on a scale of 1 to 10. Calculate the Spearman's rank correlation between these two variables and interpret the result."
   ]
  },
  {
   "cell_type": "code",
   "execution_count": 10,
   "metadata": {},
   "outputs": [
    {
     "name": "stdout",
     "output_type": "stream",
     "text": [
      "Spearman's rank correlation coefficient: 0.8207826816681234\n"
     ]
    }
   ],
   "source": [
    "# Ans.\n",
    "\n",
    "import numpy as np\n",
    "import pandas as pd\n",
    "import scipy.stats as stats\n",
    "\n",
    "# create a dataframe with the data\n",
    "data = pd.DataFrame({'Sleep': [7, 5, 8, 6, 6],\n",
    "                     'Job Satisfaction': [6, 4, 8, 5, 7]})\n",
    "                     \n",
    "r,p = stats.spearmanr(data[\"Sleep\"], data[\"Job Satisfaction\"])\n",
    "print('Spearman\\'s rank correlation coefficient:', r)\n",
    "\n",
    "# Since the Spearman's rank correlation coefficient is positive and greater than zero, this indicates a positive monotonic relationship between the amount of sleep individuals get each night and their overall job satisfaction level."
   ]
  },
  {
   "attachments": {},
   "cell_type": "markdown",
   "metadata": {},
   "source": [
    "Q3. Suppose you are conducting a study to examine the relationship between the number of hours of exercise per week and body mass index (BMI) in a sample of adults. You collected data on both variables for 50 participants. Calculate the Pearson correlation coefficient and the Spearman's rank correlation between these two variables and compare the results."
   ]
  },
  {
   "cell_type": "code",
   "execution_count": 11,
   "metadata": {},
   "outputs": [
    {
     "name": "stdout",
     "output_type": "stream",
     "text": [
      "Pearson correlation coefficient: 0.9654414869642131\n",
      "Spearman's rank correlation coefficient: 0.9712122183385244\n"
     ]
    }
   ],
   "source": [
    "# Ans.\n",
    "import numpy as np\n",
    "import pandas as pd\n",
    "from scipy import stats\n",
    "\n",
    "# create a dataframe with the data\n",
    "data = pd.DataFrame({'Exercise (hours per week)': [3, 5, 2, 4, 6, 2, 1, 3, 4, 5, 3, 2, 4, 6, 7, 1, 2, 4, 5, 3, 2, 4, 5, 6, 1, 2, 3, 4, 5, 6, 7, 1, 2, 3, 4, 5, 6, 7, 3, 2, 5, 6, 1, 2, 4, 3, 5, 2, 4, 6, 3],'BMI': [25, 29, 23, 27, 30, 26, 22, 24, 28, 31, 26, 23, 27, 29, 32, 21, 23, 26, 30, 24, 23, 27, 29, 31, 20, 23, 25, 27, 30, 32, 34, 21, 23, 26, 28, 31, 33, 36, 26, 24, 29, 32, 22, 23, 27, 25, 30, 24, 27, 31, 25]})\n",
    "\n",
    "# calculate the Pearson correlation coefficient\n",
    "r, p = stats.pearsonr(data['Exercise (hours per week)'], data['BMI'])\n",
    "\n",
    "print('Pearson correlation coefficient:', r)\n",
    "\n",
    "# calculate the Spearman's rank correlation coefficient\n",
    "rho, p_val = stats.spearmanr(data['Exercise (hours per week)'], data['BMI'])\n",
    "\n",
    "print('Spearman\\'s rank correlation coefficient:', rho)"
   ]
  },
  {
   "attachments": {},
   "cell_type": "markdown",
   "metadata": {},
   "source": [
    "The pearson's correlation coefficient between the number of hours of exercise per week and BMI is 0.96, indicating a strong positive monotonic relationship between the two variables. This suggests that as the number of hours of exercise per week increases, BMI tends to increase.\n",
    "\n",
    "The Spearman's rank correlation coefficient between the number of hours of exercise per week and BMI is 0.97, indicating a strong positive monotonic relationship between the two variables. This suggests that as the number of hours of exercise per week increases, BMI tends to increase.\n",
    "\n",
    "Both values are almost the same it means there can be linear replationship between the variables.\n"
   ]
  },
  {
   "attachments": {},
   "cell_type": "markdown",
   "metadata": {},
   "source": [
    "Q4. A researcher is interested in examining the relationship between the number of hours individuals spend watching television per day and their level of physical activity. The researcher collected data on both variables from a sample of 50 participants. Calculate the Pearson correlation coefficient between these two variables."
   ]
  },
  {
   "cell_type": "code",
   "execution_count": 12,
   "metadata": {},
   "outputs": [
    {
     "name": "stdout",
     "output_type": "stream",
     "text": [
      "Pearson correlation coefficient: -0.9701425001453319\n",
      "p-value: 3.474615503894232e-31\n"
     ]
    }
   ],
   "source": [
    "# Ans.\n",
    "import numpy as np\n",
    "from scipy.stats import pearsonr\n",
    "\n",
    "# Example data\n",
    "hours_tv = np.array([2, 1, 3, 4, 5, 2, 1, 3, 4, 5, 2, 1, 3, 4, 5, 2, 1, 3, 4, 5,\n",
    "                     2, 1, 3, 4, 5, 2, 1, 3, 4, 5, 2, 1, 3, 4, 5, 2, 1, 3, 4, 5,\n",
    "                     2, 1, 3, 4, 5, 2, 1, 3, 4, 5])\n",
    "physical_activity = np.array([3, 4, 2, 1, 1, 3, 4, 2, 1, 1, 3, 4, 2, 1, 1, 3, 4, 2, 1, 1,\n",
    "                              3, 4, 2, 1, 1, 3, 4, 2, 1, 1, 3, 4, 2, 1, 1, 3, 4, 2, 1, 1,\n",
    "                              3, 4, 2, 1, 1, 3, 4, 2, 1, 1])\n",
    "\n",
    "# Calculate the Pearson correlation coefficient and p-value\n",
    "corr_coef, p_value = pearsonr(hours_tv, physical_activity)\n",
    "\n",
    "print(\"Pearson correlation coefficient:\", corr_coef)\n",
    "print(\"p-value:\", p_value)\n",
    "\n",
    "# The Pearson correlation coefficient is -0.97, which indicates a strong negative linear relationship between the number of hours individuals spend watching television per day and their level of physical activity.\n",
    "# The p-value is less than 0.05, which indicates that the correlation is statistically significant at a 95% confidence level."
   ]
  },
  {
   "attachments": {},
   "cell_type": "markdown",
   "metadata": {},
   "source": [
    "Q5. A survey was conducted to examine the relationship between age and preference for a particular brand of soft drink. The survey results are shown below:"
   ]
  },
  {
   "cell_type": "code",
   "execution_count": 15,
   "metadata": {},
   "outputs": [
    {
     "data": {
      "text/html": [
       "<div>\n",
       "<style scoped>\n",
       "    .dataframe tbody tr th:only-of-type {\n",
       "        vertical-align: middle;\n",
       "    }\n",
       "\n",
       "    .dataframe tbody tr th {\n",
       "        vertical-align: top;\n",
       "    }\n",
       "\n",
       "    .dataframe thead th {\n",
       "        text-align: right;\n",
       "    }\n",
       "</style>\n",
       "<table border=\"1\" class=\"dataframe\">\n",
       "  <thead>\n",
       "    <tr style=\"text-align: right;\">\n",
       "      <th></th>\n",
       "      <th>age</th>\n",
       "      <th>drink_preference</th>\n",
       "    </tr>\n",
       "  </thead>\n",
       "  <tbody>\n",
       "    <tr>\n",
       "      <th>age</th>\n",
       "      <td>1.00000</td>\n",
       "      <td>0.83753</td>\n",
       "    </tr>\n",
       "    <tr>\n",
       "      <th>drink_preference</th>\n",
       "      <td>0.83753</td>\n",
       "      <td>1.00000</td>\n",
       "    </tr>\n",
       "  </tbody>\n",
       "</table>\n",
       "</div>"
      ],
      "text/plain": [
       "                      age  drink_preference\n",
       "age               1.00000           0.83753\n",
       "drink_preference  0.83753           1.00000"
      ]
     },
     "execution_count": 15,
     "metadata": {},
     "output_type": "execute_result"
    }
   ],
   "source": [
    "# Ans.\n",
    "# As there is less clarity about the question being asked, i assumed that correlation is being asked between the age and preferenmce of soft drink.\n",
    "\n",
    "import pandas as pd\n",
    "df = pd.DataFrame({\"age\":[25,42,37,19,31,28], \"drink_preference\":[\"coke\",\"pepsi\",\"mountain dew\",\"coke\",\"pepsi\",\"coke\"]})\n",
    "\n",
    "#Target guided ordinal encoding\n",
    "means = df.groupby(\"drink_preference\")[\"age\"].mean()\n",
    "dp_mapped = df[\"drink_preference\"].map(means)\n",
    "df = df.drop(columns=\"drink_preference\")\n",
    "df = pd.concat([df,dp_mapped],axis=1)\n",
    "df.corr(method=\"pearson\")"
   ]
  },
  {
   "attachments": {},
   "cell_type": "markdown",
   "metadata": {},
   "source": [
    "Q6. A company is interested in examining the relationship between the number of sales calls made per day and the number of sales made per week. The company collected data on both variables from a sample of 30 sales representatives. Calculate the Pearson correlation coefficient between these two variables."
   ]
  },
  {
   "cell_type": "code",
   "execution_count": 16,
   "metadata": {},
   "outputs": [
    {
     "name": "stdout",
     "output_type": "stream",
     "text": [
      "Pearson correlation coefficient: 0.9786578368619789\n",
      "p-value: 8.744704241207182e-21\n"
     ]
    }
   ],
   "source": [
    "# Ans.\n",
    "import numpy as np\n",
    "from scipy.stats import pearsonr\n",
    "\n",
    "# define the data\n",
    "num_sales_calls = np.array([10, 12, 8, 15, 9, 11, 13, 16, 12, 14, 7, 10, 11, 9, 13, 14, 12, 8, 16, 15, 10, 13, 9, 12, 11, 14, 16, 8, 11, 12])\n",
    "num_sales_per_week = np.array([5, 6, 4, 7, 4, 5, 6, 8, 6, 7, 3, 5, 5, 4, 6, 7, 6, 4, 8, 7, 5, 6, 4, 6, 5, 7, 8, 4, 6, 6])\n",
    "\n",
    "# calculate the Pearson correlation coefficient and p-value\n",
    "corr, p_value = pearsonr(num_sales_calls, num_sales_per_week)\n",
    "\n",
    "# print the results\n",
    "print(\"Pearson correlation coefficient:\", corr)\n",
    "print(\"p-value:\", p_value)\n",
    "\n",
    "# The Pearson correlation coefficient between the number of sales calls made per day and the number of sales made per week indicates a strong positive correlation between these two variables. \n"
   ]
  }
 ],
 "metadata": {
  "kernelspec": {
   "display_name": "base",
   "language": "python",
   "name": "python3"
  },
  "language_info": {
   "codemirror_mode": {
    "name": "ipython",
    "version": 3
   },
   "file_extension": ".py",
   "mimetype": "text/x-python",
   "name": "python",
   "nbconvert_exporter": "python",
   "pygments_lexer": "ipython3",
   "version": "3.10.9"
  },
  "orig_nbformat": 4
 },
 "nbformat": 4,
 "nbformat_minor": 2
}
