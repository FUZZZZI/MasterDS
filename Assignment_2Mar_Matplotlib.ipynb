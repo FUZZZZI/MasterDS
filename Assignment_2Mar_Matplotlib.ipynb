Q1: What is Matplotlib? Why is it used? Name five plots that can be plotted 
using the Pyplot module of Matplotlib.
Ans.
Matplotlib is a Python data visualization library that allows users to create 
a variety of graphs and plots.

Matplotlib is used for data visualization and exploratory analysis in fields 
such as science, engineering, finance, and economics, among others. It allows 
users to easily create various types of plots, charts, and graphs to help them 
understand their data, identify patterns, and communicate insights to others.

Five plots:
Line Plot; Scatter Plot; Bar Plot; Histogram; Box Plot

Q2: What is a scatter plot? Use the following code to generate data for x and y. 
Using this generated data plot a scatter plot.

import numpy as np
np.random.seed(3)
x = 3 + np.random.normal(0, 2, 50)
y = 3 + np.random.normal(0, 2, len(x))
Note: Also add title, xlabel, and ylabel to the plot.

Ans.
Scatter plot:- A plot that shows the relationship between two variables by 
placing a dot on a graph for each data point.

Code:-

import numpy as np
import matplotlib.pyplot as plt
x = 3 + np.random.normal(0,2,50)
y = 3 + np.random.normal(0,2,len(x))
#x
#y
plt.figure(figsize=(6,6))
plt.scatter(x,y,c="r",marker="x", alpha=0.8,edgecolors="#414141")
plt.grid(visible=True)
plt.xlabel(xlabel="xaxis")
plt.ylabel(ylabel="yaxis")
plt.title(label="x vs y")

Q3: Why is the subplot() function used? Draw four line plots using the subplot() function.
Use the following data:

import numpy as np
For line 1: x = np.array([0, 1, 2, 3, 4, 5]) and  y = np.array([0, 100, 200, 300, 400, 500])
For line 2: x = np.array([0, 1, 2, 3, 4, 5]) and y = np.array([50, 20, 40, 20, 60, 70])
For line 3: x = np.array([0, 1, 2, 3, 4, 5]) and y = np.array([10, 20, 30, 40, 50, 60])
For line 4: x = np.array([0, 1, 2, 3, 4, 5]) and y = np.array([200, 350, 250, 550, 450, 150])

Ans.
The subplot() function in Matplotlib is used to create multiple plots in a 
single figure. It allows users to organize and compare multiple visualizations 
of their data within a single window.
Subplot is useful for comparing different aspects of the same data, or for 
comparing different datasets side-by-side.

code:-

import numpy as np
import matplotlib.pyplot as plt

x = np.array([0, 1, 2, 3, 4, 5]) 
y1 = [0, 100, 200, 300, 400, 500]
y2 = [50, 20, 40, 20, 60, 70]
y3 = [10, 20, 30, 40, 50, 60]
y4 = [200, 350, 250, 550, 450, 150]
y=np.array((y1,y2,y3,y4))

rows=1
columns=4
fig,axs = plt.subplots(nrows=rows, ncols=columns, sharey=True,figsize=(6,6))
#print(fig, axs)
for i in range(columns):
    axs[i].plot(x,y[i],color="blue")
plt.show()

Q4: What is a bar plot? Why is it used? Using the following data plot a bar 
plot and a horizontal bar plot. 

import numpy as np
company = np.array(["Apple", "Microsoft", "Google", "AMD"])
profit = np.array([3000, 8000, 1000, 10000])

Ans.
Bar plot:- A plot that shows the distribution of categorical data using 
rectangular bars.

Bar plots are commonly used in data analysis and visualization to summarize 
and display categorical data. 

Code:-

import numpy as np
import matplotlib.pyplot as plt

company = np.array(["Apple", "Microsoft", "Google", "AMD"])
profit = np.array([3000, 8000, 1000, 10000])

#Bar plot
plt.bar(x=company, height=profit, width=0.8, align="center", color="blue")

#Horzontal Bar plot
plt.barh(y=company, width=profit,height=0.8, align="center", color="blue")

Q5: What is a box plot? Why is it used? Using the following data plot a box plot.

box1 = np.random.normal(100, 10, 200)
box2 = np.random.normal(90, 20, 200)

Ans.
A box plot (also known as a box and whisker plot) is a type of data 
visualization that summarizes the distribution of a set of numerical 
data using five key values: the minimum value, the maximum value, the 
median value (or middle value), and the first and third quartiles.

Box plots are useful for identifying the distribution, variability, and 
skewness of a set of numerical data, and for comparing the distributions of 
different groups or datasets. They can also help identify any outliers or 
extreme values that may be present in the data.

code:-

import numpy as np
import matplotlib.pyplot as plt

box1 = np.random.normal(100, 10, 200)
box2 = np.random.normal(90, 20, 200)

plt.boxplot([box1,box2])
plt.xticks([1, 2], ['Box 1', 'Box 2'])
plt.ylabel('Value')
plt.title('Box Plot Example')
plt.show()
