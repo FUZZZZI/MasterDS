Q1. Which function is used to open a file? What are the different modes of 
opening a file? Explain each mode of file opening.
Ans.
Function used to open a file :- open() function.

There are many modes for opening a file but 3 are most useful
Read - Read the content of the file
Write - Create or re-write the content of the file
Append - Add more content to the file

Q2. Why close() function is used? Why is it important to close a file?
Ans.
The close() method closes an opened file.

You should always close your files, in some cases, due to buffering, changes 
made to a file may not show until you close the file.

Q3. Write a python program to create a text file. Write ‘I want to become a 
Data Scientist’ in that file. Then close the file. Open this file and read the 
content of the file.  
Ans.
import os
f1 = open("test.txt" ,"w" )
f1.write("I want to become a Data Scientist")
f1.close()

data = open("test.txt" , "r")
data.read()
data.close()

Q4. Explain the following with python code: read(), readline() and readlines().
Ans.
read() :- read and reaturn all lines as string

file = open('example.txt', 'r')
content = file.read()
print(content)
file.close()

readline() :- reads one line of the file at a time. It returns the current line 
and moves the file pointer to the next line

file = open('example.txt', 'r')
line1 = file.readline()
line2 = file.readline()
print(line1)
print(line2)
file.close()


readlines() :- reads all the lines at a single go and then return them as each 
line a string element in a list

file = open('example.txt', 'r')
lines = file.readlines()
print(lines)
file.close()

Q5. Explain why with statement is used with open(). What is the advantage of 
using with statement and open() together?
Ans.
The with keyword in Python is used as a context manager.

The with statement is used with open() in Python to ensure that the file is 
properly closed after it has been used. It guarantees that the file is closed 
when the block inside the with statement is exited, regardless of how the block 
is exited.

with open('example.txt', 'r') as file:
    content = file.read()
    print(content)

Q6. Explain the write() and writelines() functions. Give a suitable example.
Ans.
write() is used to write a string to an already opened file

Ex:-

f1 = open("test.txt" ,"w" )
f1.write("Data Science Masters course")
f1.close()

writelines() method is used to write a list of strings in an opened file

Ex:-

f = open("demofile3.txt", "a")
f.writelines(["See you soon!", "Over and out."])
f.close()
















