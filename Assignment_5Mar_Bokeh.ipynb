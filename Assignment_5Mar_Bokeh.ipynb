Q1. How can you create a Bokeh plot using Python code?
Ans.
Step1:-
Import the necessary Bokeh functions and objects. The main function for 
creating plots is figure() from the bokeh.plotting module.

import bokeh.io
import bokeh.plotting
bokeh.io.output_notebook()
from bokeh.plotting import figure, output_file, show

Step2:-
Create the data to be plotted. This could be a NumPy array, a Pandas DataFrame, 
or a Python list.

x = [1, 2, 3, 4, 5]
y = [6, 7, 2, 4, 5]

Step3:-
Create a new Bokeh figure using the figure() function. You can specify the 
width, height, and other properties of the plot in this step.

p = figure(title="My Plot", x_axis_label="X Label", y_axis_label="Y Label", 
plot_width=400, plot_height=400)

Step4:-
Add glyphs to the plot using the glyph methods of the figure object. 
For example, to create a scatter plot, you can use the circle() method.

p.circle(x, y, size=10, color='blue')

Step5:-
Output the plot using one of the Bokeh output functions, such as output_file() 
or output_notebook().

output_file("my_plot.html")
show(p)

Q2. What are glyphs in Bokeh, and how can you add them to a Bokeh plot? 
Explain with an example.
Ans.
In Bokeh, glyphs are the visual shapes used to represent data on a plot.

code:-

from bokeh.plotting import figure, output_file, show

# create some data
x = [1, 2, 3, 4, 5]
y = [6, 7, 2, 4, 5]

# create a new plot with the appropriate parameters
p = figure(title="My Plot", x_axis_label="X Label", y_axis_label="Y Label", 
plot_width=400, plot_height=400)

# add a scatter plot with circles as glyphs
p.circle(x, y, size=10, color='blue')

# output the plot to a file or show it in the notebook
output_file("my_plot.html")
show(p)

There are many other glyph functions in Bokeh that you can use to create 
different types of visualizations, such as line(), rect(), and bar(). 

Q3. How can you customize the appearance of a Bokeh plot, including the axes, 
title, and legend?
Ans.

from bokeh.plotting import figure, output_file, show

# create some data
x = [1, 2, 3, 4, 5]
y = [6, 7, 2, 4, 5]

# create a new plot with customized axes, title, and legend
p = figure(x_range=(0, 6), y_range=(0, 8), x_axis_label='X Label', 
y_axis_label='Y Label', title='My Plot', plot_width=400, plot_height=400)


p.xaxis.minor_tick_line_color = 'gray'
p.yaxis.major_label_text_color = 'blue'
p.title.text_font_size = '20pt'


# add a scatter plot with circles as glyphs and a legend
p.circle(x, y, size=10, color='blue', legend_label='My Data')
p.legend.label_text_color = 'red'

# output the plot to a file or show it in the notebook
output_file("my_plot.html")
show(p)

Q4. What is a Bokeh server, and how can you use it to create interactive plots 
that can be updated in real time?
Ans.

A Bokeh server is a Python application that allows you to create interactive 
Bokeh plots that can be updated in real time based on user input or data changes. 
Bokeh server runs a web server that serves Bokeh plots to web browsers and 
handles incoming events from the web browser, such as user clicks or changes 
to input controls.

To create a Bokeh server application, you can use the bokeh.server module and 
define a function that creates a Bokeh plot and returns it. This function can 
be wrapped in a Bokeh curdoc object that is used to add the plot to the server 
application. 

Q5. How can you embed a Bokeh plot into a web page or dashboard using Flask or 
Django?
Ans.
Step1:-
Create a Bokeh plot and save it to an HTML file using the 
bokeh.embed.file_html function:

code:-

from bokeh.plotting import figure
from bokeh.resources import CDN
from bokeh.embed import file_html

plot = figure()
plot.line([1, 2, 3], [4, 5, 6])
html = file_html(plot, CDN)

Step2:-
Create a Flask or Django route that returns the HTML file as a response to a request:

code:-

from flask import Flask

app = Flask(__name__)

@app.route('/')
def index():
    return html

Step3:-
In your web page or dashboard, use an iframe to display the plot by setting 
the src attribute to the URL of the Flask or Django route:

code:-

<iframe src="{{ url_for('index') }}" width="600" height="400"></iframe>

This will embed the Bokeh plot into your web page or dashboard using an iframe. 
When the page is loaded, the Flask or Django route will be called to serve the 
HTML file containing the plot.