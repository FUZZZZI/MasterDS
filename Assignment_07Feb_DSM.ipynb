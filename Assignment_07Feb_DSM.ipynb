Q1. You are writing code for a company. The requirement of the company is that 
you create a python function that will check whether the password entered by 
the user is correct or not. The function should take the password as input and 
return the string “Valid Password” if the entered password follows the 
below-given password guidelines else it should return “Invalid Password”. 

Note:

The Password should contain at least two uppercase letters and at least two 
lowercase letters.
The Password should contain at least a number and three special characters.
The length of the password should be 10 characters long.
Ans.
#password = "AVb517v@&#"
# *$ means - match, from beginning to end, any character that appears zero or more times.

password = str(input("Enter Your Password"))
def valpass(x):
    U,L,N,S = 0,0,0,0
    import re
    for i in x:
        if i.isnumeric() == True:
            N +=1
        elif type(i) == str:
            if i.isupper() == True:
                U +=1
            elif i.islower() == True:
                L +=1
            elif bool(re.match('^[a-zA-Z0-9]*$',i)) == False:
                S +=1
    if U >=2 and L >=2 and N >=1 and S >=3 and len(x) == 10:
        print("Valid Password")
    else:
        print("Invalid Password")
#    return U,L,N,S        
valpass(password)    

Q2. Solve the below-given questions using at least one of the following:

Lambda function
Filter function
Zap function
List Comprehension
Ans.

Q2a. Check if the string starts with a particular letter.
Ans.
string1 = "Abddf5"
start_A = lambda x : x.startswith("A")
print(start_A(string1))

Q2b. Check if the string is numeric
Ans.
string2 = "4343"
is_num = lambda x : x.isdigit()
print(is_num(string2))

Q2c. Sort a list of tuples having fruit names and their quantity.
Ans.
list_tuple =  [("mango", 99), ("orange", 80), ("grapes", 1000)]   
sorted(list_tuple, key = lambda x : x[1], reverse = True)

Q2d. Find the squares of the numbers from 1 to 10.
Ans.
list_q2d = list(range(1,11))
list(map(lambda i : i**2,list_q2d))

Q2e. Find the cube root of the numbers from 1 to 10.
Ans.
list_q2e = list(range(1,11))
list(map(lambda i : pow(i, 1/3),list_q2d))

Q2f. Check if a given number is even
Ans.
num_2f = 46
check1 = lambda x : "Even number" if (x%2==0) else "Odd number"
check1(num_2f)

Q2g. Filter odd numbers from the given list.
Ans.
list_2g = [1,2,3,4,5,6,7,8,9,10]
list(filter(lambda x : x%2!=0, list_2g))

Q2f. Sort a list of integers into positive and negative integers lists.
Ans.
list_2f = [1,2,3,4,5,6,-1,-2,-3,-4,-5,0]
sorted(list_2f, key=lambda x : x, reverse = True)