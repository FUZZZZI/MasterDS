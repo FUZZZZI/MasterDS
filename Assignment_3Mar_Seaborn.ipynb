Que 1: Name any five plots that we can plot using the Seaborn library. 
Also, state the uses of each plot.
Ans.
Five types of plots in seaborn library:-

1. Histogram plot (sns.histplot()) - Histograms are used to show the 
distribution of a continuous variable. The Seaborn function sns.histplot() can 
be used to create histograms with different options for binning, normalization, 
and customization of the plot aesthetics.

2. Scatter plot (sns.scatterplot()) - Scatter plots are used to show the 
relationship between two continuous variables. The Seaborn function 
sns.scatterplot() can be used to create scatter plots with different options 
for styling the markers, adding regression lines, and incorporating 
categorical variables.

3. Line plot (sns.lineplot()) - Line plots are used to show the trend in a 
continuous variable over time or another continuous variable. The Seaborn 
function sns.lineplot() can be used to create line plots with different 
options for styling the lines, adding error bands, and incorporating 
categorical variables.

4. Box plot (sns.boxplot()) - Box plots are used to show the distribution of 
a continuous variable across categories. The Seaborn function sns.boxplot() 
can be used to create box plots with different options for grouping the data 
by categorical variables, customizing the plot aesthetics, and adding swarm 
plots to show the individual observations.

5. Heat map (sns.heatmap()) - Heat maps are used to show the relationship 
between two categorical variables by color-coding the cells of a table based 
on the frequency or magnitude of the values. The Seaborn function 
sns.heatmap() can be used to create heat maps with different options for 
customizing the color palette, scaling the data, and adding annotations 
to the cells.

Que 2: Load the "fmri" dataset using the load_dataset function of seaborn. 
Plot a line plot using x = "timepoint" and y = "signal" for different 
events and regions. 

Note:  timepoint, signal, event, and region are columns in the fmri dataset.
Ans.

code:-

import seaborn as sns
fmri = sns.load_dataset("fmri")
sns.lineplot(x=fmri.timepoint, y=fmri.signal, data=fmri, hue=fmri.region, 
             style=fmri.event, palette="Greens")

Que 3: Load the "titanic" dataset using the load_dataset function of seaborn. 
Plot two box plots using x = 'pclass', y = 'age' and y = 'fare'.

Note:  pclass, age, and fare are columns in the titanic dataset.
Ans.

code:-

import seaborn as sns
titanic = sns.load_dataset("titanic")
sns.boxplot(x=titanic.pclass, y=titanic.age, data=titanic)
sns.boxplot(x=titanic.pclass, y=titanic.fare, data=titanic)

Que 4: Use the "diamonds" dataset from seaborn to plot a histogram for the 
'price' column. Use the hue parameter for the 'cut' column of the diamonds dataset. 
Ans. 

code:-

import seaborn as sns
diamond = sns.load_dataset("diamonds")
sns.histplot(x=diamond.price,data=diamond, hue=diamond.cut)

Que 5: Use the "iris" dataset from seaborn to plot a pair plot. Use the hue 
parameter for the "species" column of the iris dataset. 
Ans.

code:-

import seaborn as sns
iris = sns.load_dataset("iris")
sns.pairplot(data=iris, hue="species")

Que 6: Use the "flights" dataset from seaborn to plot a heatmap.
Ans.

code:-

import seaborn as sns
flight=sns.load_dataset("flights")
pivot=flight.pivot("month", "year", "passengers")
sns.heatmap(data=pivot,cmap="YlGnBu")
