Q1. What is an exception in python? Write difference between Exceptions and 
    syntax errors.
Ans.
In Python, an exception is an error that occurs during the execution of a 
program. When an exception occurs, the normal flow of the program is disrupted, 
and the interpreter raises an exception object. This object contains 
information about the type of exception that occurred, as well as any 
relevant traceback information.

Difference between Exception and syntax errors:
1. Exceptions occur during the execution of a program, while syntax errors 
occur during the parsing of code. 
2. Exceptions are typically caused by errors in the logic of the program, 
while syntax errors are caused by mistakes in the syntax of the code.

Q2. What happens when an expection is not handeled? Explain with an Example.
Ans.
When an exception is not handled, it results in the program terminating 
abruptly with an error message. This error message contains information about 
the type of exception that occurred, as well as any relevant traceback 
information. The program is not able to recover from the exception, and any 
remaining code in the program is not executed.

For Ex:-
x = 10 / 0
print("This line will never be executed")

In this example, we're trying to divide 10 by 0, which will raise a 
ZeroDivisionError exception. Since we have not included any code to handle 
this exception, the program will terminate abruptly with below error message:

Traceback (most recent call last):
  File "C:\Users\Y0VWTS9\AppData\Local\Temp\ipykernel_12392\3189367050.py", line 1, in <module>
    x = 10 / 0
ZeroDivisionError: division by zero

As you can see, the error message indicates that a ZeroDivisionError occurred, 
and it includes information about where the error occurred in the program. 
In this case, the program did not execute the print statement because the 
exception occurred before that line of code.

Q3. Which python statements are used to catch and handle exceptions? Explain
    with an example.
Ans.
In Python, we can catch and handle exceptions using the try-except statement.
For ex:-

try:
    x = int(input("Enter a number: "))
    y = 10 / x
    print("The result is:", y)
except ValueError:
    print("Invalid input. Please enter a valid number.")
except ZeroDivisionError:
    print("Cannot divide by zero.")

In above example, try-except statemnent handles the input values other than 
integer and zero.

So, by using try-except blocks, we can prevent our programs from crashing due 
to unhandled exceptions, and provide informative error messages to users.

Q4. Explain with an exmple: 
try and else 
finally 
raise
Ans.

For try-except :-

try:
    age=89
    a = age / 0
    print(a)
except:
    print('Exception is handled')
    
For try-else :-
If there is no exception then else block will be executed

x,y = 2, 4
try:
    result = x // y
except ZeroDivisionError:
    print("You are dividing by zero ")
else:
    print("Answer :", result)
    
For finally :-
finally block is executed always irrespective of whether exception raised 
or not raised and whether exception handled or not handled.

try:
	k = 5//0
	print(k)
except ZeroDivisionError:
	print("Can't divide by zero")
finally:
	print('This is always executed')
	
For raise :-
We can define custom exception by using "raise" keyword

age = -50
if age < 0:
    raise RuntimeError("Wrong age")
else:
    print("Ok")
    
Q5. What are Custom Exceptions in python? Why do we need Custom Exeptions? 
Explain with an exmple.
Ans.
Custom handling generally refers to a specific and tailored approach to 
handling a particular task or situation, rather than using a standardized or 
generic approach. This can be applied to a variety of contexts, such as 
software development, customer service, or manufacturing.

For Ex :-

age = -1
if age < 1:
    raise RuntimeError("Wrong age")
else:
    print("Done")

In the below example an exception is created if the age variable is smaller than 1

Q6. Create a custom exception class. Use this class to handle an exception
Ans.

For Ex :-

class tes(Exception):
    def __init__(self,arg):
        self.msg=arg

age = -50
if age < 0:
    raise tes("Age can't be Negative")
else:
    print("Valid Age")
    
Here we have defined a function named "tes" and handled the exception through it.
